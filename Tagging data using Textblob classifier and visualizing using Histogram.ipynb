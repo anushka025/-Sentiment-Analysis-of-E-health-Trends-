{
 "cells": [
  {
   "cell_type": "markdown",
   "id": "2c1c2388",
   "metadata": {},
   "source": [
    "Tagging data using Textblob:"
   ]
  },
  {
   "cell_type": "code",
   "execution_count": null,
   "id": "bc22426f",
   "metadata": {},
   "outputs": [],
   "source": [
    "from textblob import TextBlob\n",
    "# function to calculate subjectivity\n",
    "def getSubjectivity(clean_tweets):\n",
    "    return TextBlob(clean_tweets).sentiment.subjectivity\n",
    "    # function to calculate polarity\n",
    "def getPolarity(clean_tweets):\n",
    "    return TextBlob(clean_tweets).sentiment.polarity\n",
    "\n",
    "# function to analyze the reviews\n",
    "def analysis(score):\n",
    "    if score < 0:\n",
    "        return 'Negative'\n",
    "    elif score == 0:\n",
    "        return 'Neutral'\n",
    "    else:\n",
    "        return 'Positive'\n",
    "fin_data = pd.read_csv(r\"C:\\Users\\HP\\Desktop\\Polarity of Tweets\\25.03.2022\\Telemedicine.csv\")\n",
    "fin_data['Polarity'] = fin_data['clean_tweets'].apply(getPolarity) \n",
    "fin_data['Analysis'] = fin_data['Polarity'].apply(analysis)\n",
    "fin_data_final=fin_data.drop([\"Tweets\",\"first100charactersoftweets\",\"POS tagged\",\"Lemma\"],axis=1)\n",
    "\n",
    "#create new data frames for all sentiments\n",
    "tweet_neg = fin_data[fin_data[\"Analysis\"] == \"Negative\"]\n",
    "tweet_neu = fin_data[fin_data[\"Analysis\"] == \"Neutral\"]\n",
    "tweet_pos = fin_data[fin_data[\"Analysis\"] == \"Positive\"]\n",
    "#function for calculating the percentage of all the sentiments\n",
    "def calc_percentage(x,y):\n",
    "    return x/y * 100\n",
    "pos_per = calc_percentage(len(tweet_pos), len(VADER_SENTIMENT))\n",
    "neg_per = calc_percentage(len(tweet_neg), len(VADER_SENTIMENT))\n",
    "neu_per = calc_percentage(len(tweet_neu), len(VADER_SENTIMENT))\n",
    "print(\"positive: {} {}%\".format(len(tweet_pos),  format(pos_per, '.1f')))\n",
    "print(\"negative: {} {}%\".format(len(tweet_neg), format(neg_per, '.1f')))\n",
    "print(\"neutral: {} {}%\".format(len(tweet_neu), format(neu_per, '.1f')))\n",
    "\n",
    "fig, ax = plt.subplots(figsize=(8, 6))\n",
    "\n",
    "# Plot histogram of the polarity values\n",
    "fin_data.hist(bins=[-1, -0.75, -0.5, -0.25, 0.25, 0.5, 0.75, 1],\n",
    "             ax=ax,\n",
    "             color=\"purple\")\n",
    "\n",
    "plt.title(\"Twitter sentiment analysis of #Telemedicine\")\n",
    "plt.show()"
   ]
  }
 ],
 "metadata": {
  "kernelspec": {
   "display_name": "Python 3 (ipykernel)",
   "language": "python",
   "name": "python3"
  },
  "language_info": {
   "codemirror_mode": {
    "name": "ipython",
    "version": 3
   },
   "file_extension": ".py",
   "mimetype": "text/x-python",
   "name": "python",
   "nbconvert_exporter": "python",
   "pygments_lexer": "ipython3",
   "version": "3.9.7"
  }
 },
 "nbformat": 4,
 "nbformat_minor": 5
}
