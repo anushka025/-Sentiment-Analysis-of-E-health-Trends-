{
 "cells": [
  {
   "cell_type": "code",
   "execution_count": null,
   "id": "ceb71e63",
   "metadata": {},
   "outputs": [],
   "source": [
    "Tagging data using VADER classfier and visualizing it using Histogram"
   ]
  },
  {
   "cell_type": "code",
   "execution_count": null,
   "id": "3affb4eb",
   "metadata": {},
   "outputs": [],
   "source": [
    "import nltk\n",
    "nltk.download('vader_lexicon')\n",
    "from nltk.sentiment.vader import SentimentIntensityAnalyzer\n",
    "for index, row in ID_TWEET['clean_tweets'].iteritems():\n",
    "    score = SentimentIntensityAnalyzer().polarity_scores(row)\n",
    "    if score['neg'] > score['pos']:\n",
    "        ID_TWEET.loc[index, \"Sentiment\"] = \"negative\"\n",
    "    elif score['pos'] > score['neg']:\n",
    "        ID_TWEET.loc[index, \"Sentiment\"] = \"positive\"\n",
    "    else:\n",
    "        ID_TWEET.loc[index, \"Sentiment\"] = \"neutral\"\n",
    "        \n",
    "    ID_TWEET.loc[index, 'neg'] = score['neg']\n",
    "    ID_TWEET.loc[index, 'neu'] = score['neu']\n",
    "    ID_TWEET.loc[index, 'pos'] = score['pos']\n",
    "    ID_TWEET.loc[index, 'compound'] = score['compound']\n",
    "VADER_SENTIMENT= pd.DataFrame(ID_TWEET)\n",
    "VADER_SENTIMENT= pd.DataFrame(ID_TWEET[['Column1.location', 'clean_tweets','neg','neu','pos','compound']])\n",
    "\n",
    "# function to analyze the reviews\n",
    "def analysis(score):\n",
    "    if score < 0:\n",
    "        return 'Negative'\n",
    "    elif score == 0:\n",
    "        return 'Neutral'\n",
    "    else:\n",
    "        return 'Positive'\n",
    "VADER_SENTIMENT['Analysis'] = VADER_SENTIMENT['compound'].apply(analysis)\n",
    "\n",
    "#create new data frames for all sentiments\n",
    "tweet_neg = VADER_SENTIMENT[VADER_SENTIMENT[\"Analysis\"] == \"Negative\"]\n",
    "tweet_neu = VADER_SENTIMENT[VADER_SENTIMENT[\"Analysis\"] == \"Neutral\"]\n",
    "tweet_pos = VADER_SENTIMENT[VADER_SENTIMENT[\"Analysis\"] == \"Positive\"]\n",
    "#function for calculating the percentage of all the sentiments\n",
    "def calc_percentage(x,y):\n",
    "    return x/y * 100\n",
    "pos_per = calc_percentage(len(tweet_pos), len(VADER_SENTIMENT))\n",
    "neg_per = calc_percentage(len(tweet_neg), len(VADER_SENTIMENT))\n",
    "neu_per = calc_percentage(len(tweet_neu), len(VADER_SENTIMENT))\n",
    "print(\"positive: {} {}%\".format(len(tweet_pos),  format(pos_per, '.1f')))\n",
    "print(\"negative: {} {}%\".format(len(tweet_neg), format(neg_per, '.1f')))\n",
    "print(\"neutral: {} {}%\".format(len(tweet_neu), format(neu_per, '.1f')))\n",
    "\n",
    "fig, ax = plt.subplots(figsize=(8, 6))\n",
    "\n",
    "# Plot histogram of the polarity values\n",
    "VADER_SENTIMENT.hist(bins=[-1, -0.75, -0.5, -0.25, 0.25, 0.5, 0.75, 1],\n",
    "             ax=ax,\n",
    "             color=\"blue\")\n",
    "\n",
    "plt.title(\"Twitter sentiment analysis of #TeleMedicine\")\n",
    "plt.show()"
   ]
  }
 ],
 "metadata": {
  "kernelspec": {
   "display_name": "Python 3 (ipykernel)",
   "language": "python",
   "name": "python3"
  },
  "language_info": {
   "codemirror_mode": {
    "name": "ipython",
    "version": 3
   },
   "file_extension": ".py",
   "mimetype": "text/x-python",
   "name": "python",
   "nbconvert_exporter": "python",
   "pygments_lexer": "ipython3",
   "version": "3.9.7"
  }
 },
 "nbformat": 4,
 "nbformat_minor": 5
}
