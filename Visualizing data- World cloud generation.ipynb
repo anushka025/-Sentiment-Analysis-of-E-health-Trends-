{
 "cells": [
  {
   "cell_type": "markdown",
   "id": "422b0493",
   "metadata": {},
   "source": [
    "Visualizing cleaned data by forming Word clouds"
   ]
  },
  {
   "cell_type": "code",
   "execution_count": null,
   "id": "cb0bdb36",
   "metadata": {},
   "outputs": [],
   "source": [
    "#Function to Create Wordcloud\n",
    "def create_wordcloud(text):\n",
    "    mask = np.array(Image.open(r'C:\\Users\\admin\\Desktop\\white background.png'))\n",
    "    stopwords = set(STOPWORDS)\n",
    "    wc = WordCloud(background_color='white',\n",
    "    mask = mask,\n",
    "    max_words=1000,\n",
    "    stopwords=stopwords,\n",
    "    repeat=True)\n",
    "    wc.generate(str(text))\n",
    "    wc.to_file('wc.png')\n",
    "    print('Word Cloud Saved Successfully')\n",
    "    path='wc.png'\n",
    "    display(Image.open(path))\n",
    "create_wordcloud(ID_TWEET['clean_tweets'].values)"
   ]
  }
 ],
 "metadata": {
  "kernelspec": {
   "display_name": "Python 3 (ipykernel)",
   "language": "python",
   "name": "python3"
  },
  "language_info": {
   "codemirror_mode": {
    "name": "ipython",
    "version": 3
   },
   "file_extension": ".py",
   "mimetype": "text/x-python",
   "name": "python",
   "nbconvert_exporter": "python",
   "pygments_lexer": "ipython3",
   "version": "3.9.7"
  }
 },
 "nbformat": 4,
 "nbformat_minor": 5
}
